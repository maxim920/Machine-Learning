{
  "nbformat": 4,
  "nbformat_minor": 0,
  "metadata": {
    "colab": {
      "provenance": [],
      "authorship_tag": "ABX9TyOdv4zImVucw9MhhM9SKYIT",
      "include_colab_link": true
    },
    "kernelspec": {
      "name": "python3",
      "display_name": "Python 3"
    },
    "language_info": {
      "name": "python"
    }
  },
  "cells": [
    {
      "cell_type": "markdown",
      "metadata": {
        "id": "view-in-github",
        "colab_type": "text"
      },
      "source": [
        "<a href=\"https://colab.research.google.com/github/maxim920/Machine-Learning/blob/main/Kosenko_lab7_1_4_7.ipynb\" target=\"_parent\"><img src=\"https://colab.research.google.com/assets/colab-badge.svg\" alt=\"Open In Colab\"/></a>"
      ]
    },
    {
      "cell_type": "code",
      "execution_count": 2,
      "metadata": {
        "colab": {
          "base_uri": "https://localhost:8080/"
        },
        "id": "kakVMbzCHwIX",
        "outputId": "7e45b69b-1949-458f-a493-e6567fd5dbda"
      },
      "outputs": [
        {
          "output_type": "stream",
          "name": "stdout",
          "text": [
            "('196', '242', 3.0, '881250949')\n",
            "('186', '302', 3.0, '891717742')\n",
            "('22', '377', 1.0, '878887116')\n",
            "('244', '51', 2.0, '880606923')\n",
            "('166', '346', 1.0, '886397596')\n"
          ]
        }
      ],
      "source": [
        "from surprise import Dataset\n",
        "from surprise import Reader\n",
        "import pandas as pd\n",
        "\n",
        "data = Dataset.load_builtin('ml-100k')\n",
        "\n",
        "\n",
        "raw_data = data.raw_ratings\n",
        "\n",
        "# Виведемо перші 5 рядків сирих даних\n",
        "for i in range(5):\n",
        "    print(raw_data[i])\n",
        "\n",
        "\n"
      ]
    },
    {
      "cell_type": "code",
      "source": [
        "from surprise import KNNBasic, SVD\n",
        "from surprise.model_selection import cross_validate\n",
        "\n",
        "# Алгоритм 1: KNNBasic\n",
        "knn = KNNBasic()\n",
        "knn_results = cross_validate(knn, data, measures=['MAE'], cv=5, verbose=True)\n",
        "\n",
        "# Алгоритм 2: SVD\n",
        "svd = SVD()\n",
        "svd_results = cross_validate(svd, data, measures=['MAE'], cv=5, verbose=True)\n"
      ],
      "metadata": {
        "colab": {
          "base_uri": "https://localhost:8080/"
        },
        "id": "XdZ9t8O2IvKA",
        "outputId": "3014be7b-cd0f-4cfa-f195-37b10488a94a"
      },
      "execution_count": 6,
      "outputs": [
        {
          "output_type": "stream",
          "name": "stdout",
          "text": [
            "Computing the msd similarity matrix...\n",
            "Done computing similarity matrix.\n",
            "Computing the msd similarity matrix...\n",
            "Done computing similarity matrix.\n",
            "Computing the msd similarity matrix...\n",
            "Done computing similarity matrix.\n",
            "Computing the msd similarity matrix...\n",
            "Done computing similarity matrix.\n",
            "Computing the msd similarity matrix...\n",
            "Done computing similarity matrix.\n",
            "Evaluating MAE of algorithm KNNBasic on 5 split(s).\n",
            "\n",
            "                  Fold 1  Fold 2  Fold 3  Fold 4  Fold 5  Mean    Std     \n",
            "MAE (testset)     0.7718  0.7740  0.7754  0.7735  0.7683  0.7726  0.0024  \n",
            "Fit time          0.64    0.53    0.37    0.35    0.53    0.48    0.11    \n",
            "Test time         4.05    4.07    3.20    3.19    4.10    3.72    0.43    \n",
            "Evaluating MAE of algorithm SVD on 5 split(s).\n",
            "\n",
            "                  Fold 1  Fold 2  Fold 3  Fold 4  Fold 5  Mean    Std     \n",
            "MAE (testset)     0.7383  0.7398  0.7377  0.7385  0.7315  0.7372  0.0029  \n",
            "Fit time          1.43    1.40    1.47    1.42    1.85    1.52    0.17    \n",
            "Test time         0.15    0.24    0.12    0.28    0.19    0.20    0.06    \n"
          ]
        }
      ]
    },
    {
      "cell_type": "code",
      "source": [
        "from surprise.model_selection import GridSearchCV\n",
        "\n",
        "# Підбір параметрів для KNN\n",
        "param_grid_knn = {'k': [10, 20, 30], 'sim_options': {'name': ['msd', 'cosine'], 'user_based': [False]}}\n",
        "gs_knn = GridSearchCV(KNNBasic, param_grid_knn, measures=['mae'], cv=5)\n",
        "gs_knn.fit(data)\n",
        "\n",
        "# Підбір параметрів для SVD\n",
        "param_grid_svd = {'n_factors': [50, 100], 'lr_all': [0.002, 0.005], 'reg_all': [0.02, 0.05]}\n",
        "gs_svd = GridSearchCV(SVD, param_grid_svd, measures=['mae'], cv=5)\n",
        "gs_svd.fit(data)\n"
      ],
      "metadata": {
        "colab": {
          "base_uri": "https://localhost:8080/"
        },
        "id": "xCDNfIm_JSxG",
        "outputId": "e311fac1-c6c5-42e1-9e85-d3e84dad3e1d"
      },
      "execution_count": 7,
      "outputs": [
        {
          "output_type": "stream",
          "name": "stdout",
          "text": [
            "Computing the msd similarity matrix...\n",
            "Done computing similarity matrix.\n",
            "Computing the msd similarity matrix...\n",
            "Done computing similarity matrix.\n",
            "Computing the msd similarity matrix...\n",
            "Done computing similarity matrix.\n",
            "Computing the msd similarity matrix...\n",
            "Done computing similarity matrix.\n",
            "Computing the msd similarity matrix...\n",
            "Done computing similarity matrix.\n",
            "Computing the cosine similarity matrix...\n",
            "Done computing similarity matrix.\n",
            "Computing the cosine similarity matrix...\n",
            "Done computing similarity matrix.\n",
            "Computing the cosine similarity matrix...\n",
            "Done computing similarity matrix.\n",
            "Computing the cosine similarity matrix...\n",
            "Done computing similarity matrix.\n",
            "Computing the cosine similarity matrix...\n",
            "Done computing similarity matrix.\n",
            "Computing the msd similarity matrix...\n",
            "Done computing similarity matrix.\n",
            "Computing the msd similarity matrix...\n",
            "Done computing similarity matrix.\n",
            "Computing the msd similarity matrix...\n",
            "Done computing similarity matrix.\n",
            "Computing the msd similarity matrix...\n",
            "Done computing similarity matrix.\n",
            "Computing the msd similarity matrix...\n",
            "Done computing similarity matrix.\n",
            "Computing the cosine similarity matrix...\n",
            "Done computing similarity matrix.\n",
            "Computing the cosine similarity matrix...\n",
            "Done computing similarity matrix.\n",
            "Computing the cosine similarity matrix...\n",
            "Done computing similarity matrix.\n",
            "Computing the cosine similarity matrix...\n",
            "Done computing similarity matrix.\n",
            "Computing the cosine similarity matrix...\n",
            "Done computing similarity matrix.\n",
            "Computing the msd similarity matrix...\n",
            "Done computing similarity matrix.\n",
            "Computing the msd similarity matrix...\n",
            "Done computing similarity matrix.\n",
            "Computing the msd similarity matrix...\n",
            "Done computing similarity matrix.\n",
            "Computing the msd similarity matrix...\n",
            "Done computing similarity matrix.\n",
            "Computing the msd similarity matrix...\n",
            "Done computing similarity matrix.\n",
            "Computing the cosine similarity matrix...\n",
            "Done computing similarity matrix.\n",
            "Computing the cosine similarity matrix...\n",
            "Done computing similarity matrix.\n",
            "Computing the cosine similarity matrix...\n",
            "Done computing similarity matrix.\n",
            "Computing the cosine similarity matrix...\n",
            "Done computing similarity matrix.\n",
            "Computing the cosine similarity matrix...\n",
            "Done computing similarity matrix.\n"
          ]
        }
      ]
    },
    {
      "cell_type": "code",
      "source": [
        "# Виведення найкращих результатів\n",
        "print(f\"KNN Best MAE: {gs_knn.best_score['mae']}\")\n",
        "print(f\"SVD Best MAE: {gs_svd.best_score['mae']}\")\n",
        "\n",
        "if gs_knn.best_score['mae'] < gs_svd.best_score['mae']:\n",
        "    best_algo = gs_knn.best_estimator['mae']\n",
        "else:\n",
        "    best_algo = gs_svd.best_estimator['mae']\n",
        "\n",
        "print(f\"Обраний найкращий алгоритм: {best_algo}\")\n"
      ],
      "metadata": {
        "colab": {
          "base_uri": "https://localhost:8080/"
        },
        "id": "Nb2hPh2DKJn4",
        "outputId": "74556121-3598-499c-b428-e139b4970589"
      },
      "execution_count": 8,
      "outputs": [
        {
          "output_type": "stream",
          "name": "stdout",
          "text": [
            "KNN Best MAE: 0.7711033853995326\n",
            "SVD Best MAE: 0.736629622477073\n",
            "Обраний найкращий алгоритм: <surprise.prediction_algorithms.matrix_factorization.SVD object at 0x7f3957d7fbb0>\n"
          ]
        }
      ]
    },
    {
      "cell_type": "code",
      "source": [
        "# Виведення рекомендації для конкретного користувача\n",
        "trainset = data.build_full_trainset()\n",
        "best_algo.fit(trainset)\n",
        "\n",
        "user_id = str(345)\n",
        "items = trainset.all_items()\n",
        "items_rated_by_user = [j for (j, _) in trainset.ur[trainset.to_inner_uid(user_id)]]\n",
        "\n",
        "recommendations = []\n",
        "for item_id in items:\n",
        "    if item_id not in items_rated_by_user:\n",
        "        est = best_algo.predict(user_id, trainset.to_raw_iid(item_id)).est\n",
        "        recommendations.append((item_id, est))\n",
        "\n",
        "# Виведення топ-10 рекомендованих фільмів\n",
        "recommendations.sort(key=lambda x: x[1], reverse=True)\n",
        "top_10_movies = recommendations[:10]\n",
        "top_10_movies\n"
      ],
      "metadata": {
        "colab": {
          "base_uri": "https://localhost:8080/"
        },
        "id": "NVkQm1_zKQth",
        "outputId": "48454f14-56f3-467e-874f-89d4ef77061d"
      },
      "execution_count": 10,
      "outputs": [
        {
          "output_type": "execute_result",
          "data": {
            "text/plain": [
              "[(538, 4.844126952190348),\n",
              " (180, 4.727212996077026),\n",
              " (240, 4.70931010042799),\n",
              " (612, 4.663074214914015),\n",
              " (174, 4.5944829604008355),\n",
              " (189, 4.592946409778483),\n",
              " (185, 4.592300883525253),\n",
              " (541, 4.590934539908932),\n",
              " (367, 4.566793824293146),\n",
              " (260, 4.542457479007795)]"
            ]
          },
          "metadata": {},
          "execution_count": 10
        }
      ]
    },
    {
      "cell_type": "code",
      "source": [
        "\n",
        "import os\n",
        "\n",
        "movie_file_path = os.path.expanduser('~/.surprise_data/ml-100k/ml-100k/u.item')\n",
        "movie_names = {}\n",
        "\n",
        "with open(movie_file_path, encoding='ISO-8859-1') as f:\n",
        "    for line in f:\n",
        "        fields = line.split('|')\n",
        "        movie_id = int(fields[0])\n",
        "        movie_name = fields[1]\n",
        "        movie_names[movie_id] = movie_name\n",
        "\n"
      ],
      "metadata": {
        "id": "0FExNv7JLBDR"
      },
      "execution_count": 11,
      "outputs": []
    },
    {
      "cell_type": "code",
      "source": [
        "# Відображення назв замість їх ID\n",
        "top_10_movies_with_names = [(movie_names[item_id], rating) for item_id, rating in top_10_movies]\n",
        "\n",
        "\n",
        "for movie_name, rating in top_10_movies_with_names:\n",
        "    print(f\"Фільм: {movie_name}, Передбачена оцінка: {rating:.2f}\")\n"
      ],
      "metadata": {
        "colab": {
          "base_uri": "https://localhost:8080/"
        },
        "id": "81V6B-aGLMgu",
        "outputId": "b534c0ce-4894-4b1c-d32d-68ccf17edbbb"
      },
      "execution_count": 13,
      "outputs": [
        {
          "output_type": "stream",
          "name": "stdout",
          "text": [
            "Фільм: Anastasia (1997), Передбачена оцінка: 4.84\n",
            "Фільм: Apocalypse Now (1979), Передбачена оцінка: 4.73\n",
            "Фільм: Beavis and Butt-head Do America (1996), Передбачена оцінка: 4.71\n",
            "Фільм: Lost Horizon (1937), Передбачена оцінка: 4.66\n",
            "Фільм: Raiders of the Lost Ark (1981), Передбачена оцінка: 4.59\n",
            "Фільм: Grand Day Out, A (1992), Передбачена оцінка: 4.59\n",
            "Фільм: Psycho (1960), Передбачена оцінка: 4.59\n",
            "Фільм: Mortal Kombat (1995), Передбачена оцінка: 4.59\n",
            "Фільм: Clueless (1995), Передбачена оцінка: 4.57\n",
            "Фільм: Event Horizon (1997), Передбачена оцінка: 4.54\n"
          ]
        }
      ]
    },
    {
      "cell_type": "markdown",
      "source": [
        "Висновки\n",
        "\n",
        "У ході порівняння алгоритмів для побудови рекомендаційної системи на основі набору даних MovieLens 100k було використано алгоритми KNN та SVD. За результатами крос-валідації з 5 фолдів, алгоритм SVD продемонстрував кращу точність: його середня абсолютна похибка (MAE) склала 0.7372, тоді як у KNN цей показник був вищим — 0.7726. Алгоритм SVD не тільки точніше передбачає оцінки, але й має стабільніші результати (менша стандартна відхилення). Попри те, що час навчання SVD трохи довший (середній час — 1.52 секунди проти 0.48 у KNN), SVD є кращим вибором завдяки вищій точності. Тому він був обраний для фінальної системи рекомендацій."
      ],
      "metadata": {
        "id": "DJ6ycSCdZ7_X"
      }
    },
    {
      "cell_type": "code",
      "source": [],
      "metadata": {
        "id": "kJoR17DGaAHC"
      },
      "execution_count": null,
      "outputs": []
    }
  ]
}