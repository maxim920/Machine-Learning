{
  "nbformat": 4,
  "nbformat_minor": 0,
  "metadata": {
    "colab": {
      "provenance": [],
      "authorship_tag": "ABX9TyMTqRdwt6LCuNR9tn7V6TA7",
      "include_colab_link": true
    },
    "kernelspec": {
      "name": "python3",
      "display_name": "Python 3"
    },
    "language_info": {
      "name": "python"
    }
  },
  "cells": [
    {
      "cell_type": "markdown",
      "metadata": {
        "id": "view-in-github",
        "colab_type": "text"
      },
      "source": [
        "<a href=\"https://colab.research.google.com/github/maxim920/Machine-Learning/blob/main/Kosenko_lab4_2_4_7.ipynb\" target=\"_parent\"><img src=\"https://colab.research.google.com/assets/colab-badge.svg\" alt=\"Open In Colab\"/></a>"
      ]
    },
    {
      "cell_type": "code",
      "execution_count": 60,
      "metadata": {
        "colab": {
          "base_uri": "https://localhost:8080/"
        },
        "id": "PMubtU7G1EHR",
        "outputId": "d7003a92-6b6b-4e30-d0fc-913c3f491d3a"
      },
      "outputs": [
        {
          "output_type": "stream",
          "name": "stdout",
          "text": [
            "Drive already mounted at /content/drive; to attempt to forcibly remount, call drive.mount(\"/content/drive\", force_remount=True).\n"
          ]
        }
      ],
      "source": [
        "from google.colab import drive\n",
        "import pandas as pd\n",
        "import numpy as np\n",
        "from sklearn.model_selection import train_test_split, GridSearchCV\n",
        "from sklearn.preprocessing import StandardScaler\n",
        "from sklearn.linear_model import LogisticRegression\n",
        "from sklearn.tree import DecisionTreeClassifier\n",
        "from sklearn.ensemble import RandomForestClassifier\n",
        "from sklearn.metrics import accuracy_score, confusion_matrix, classification_report\n",
        "from sklearn.impute import SimpleImputer\n",
        "\n",
        "drive.mount('/content/drive')\n",
        "\n",
        "df = pd.read_csv('/content/drive/My Drive/titanic.csv')"
      ]
    },
    {
      "cell_type": "code",
      "source": [
        "# Попередня обробка даних\n",
        "df['Age'].fillna(df['Age'].median(), inplace=True)\n",
        "df['Fare'].fillna(df['Fare'].value_counts().idxmax(), inplace=True)\n",
        "df.drop('Cabin', axis=1, inplace=True)\n",
        "df['Sex'] = df['Sex'].replace({'female': 1, 'male': 0})\n",
        "\n",
        "# Перевірка, чи все добре після обробки\n",
        "print(\"\\nПропущені значення після обробки:\")\n",
        "print(df.isnull().sum())"
      ],
      "metadata": {
        "colab": {
          "base_uri": "https://localhost:8080/"
        },
        "id": "3l38hkEf1Wrr",
        "outputId": "61cffd57-c2e4-45ac-df6f-b34f67ffb447"
      },
      "execution_count": 61,
      "outputs": [
        {
          "output_type": "stream",
          "name": "stdout",
          "text": [
            "\n",
            "Пропущені значення після обробки:\n",
            "PassengerId    0\n",
            "Survived       0\n",
            "Pclass         0\n",
            "Name           0\n",
            "Sex            0\n",
            "Age            0\n",
            "SibSp          0\n",
            "Parch          0\n",
            "Ticket         0\n",
            "Fare           0\n",
            "Embarked       0\n",
            "dtype: int64\n"
          ]
        }
      ]
    },
    {
      "cell_type": "code",
      "source": [
        "\n",
        "# Відбір необхідних стовпців\n",
        "X = df[['Pclass', 'Sex', 'Age', 'Fare']]\n",
        "y = df['Survived']\n"
      ],
      "metadata": {
        "id": "jSOM0fsF2iIm"
      },
      "execution_count": 62,
      "outputs": []
    },
    {
      "cell_type": "code",
      "source": [
        "# Розділення даних\n",
        "X_train, X_test, y_train, y_test = train_test_split(X, y, test_size=0.2, random_state=42)\n"
      ],
      "metadata": {
        "id": "_rbeTOVs1ovG"
      },
      "execution_count": 63,
      "outputs": []
    },
    {
      "cell_type": "code",
      "source": [
        "# Створення моделей класифікації\n",
        "models = {\n",
        "    \"Logistic Regression\": LogisticRegression(),\n",
        "    \"Decision Tree\": DecisionTreeClassifier(),\n",
        "    \"Random Forest\": RandomForestClassifier()\n",
        "}"
      ],
      "metadata": {
        "id": "vggmgKwn1wNH"
      },
      "execution_count": 64,
      "outputs": []
    },
    {
      "cell_type": "code",
      "source": [
        "# Параметри для GridSearchCV\n",
        "params = {\n",
        "    \"Logistic Regression\": {\"C\": [0.1, 1, 10], \"solver\": ['liblinear', 'lbfgs']},\n",
        "    \"Decision Tree\": {\"max_depth\": [3, 5, 7], \"min_samples_split\": [2, 5, 10]},\n",
        "    \"Random Forest\": {\"n_estimators\": [50, 100, 200], \"max_depth\": [3, 5, 7], \"min_samples_split\": [2, 5, 10]}\n",
        "}"
      ],
      "metadata": {
        "id": "_qlQvqde11VI"
      },
      "execution_count": 65,
      "outputs": []
    },
    {
      "cell_type": "code",
      "source": [
        "# Навчання моделей та пошук оптимальних параметрів\n",
        "best_models = {}\n",
        "for name, model in models.items():\n",
        "    print(f\"\\nНавчання моделі: {name}...\")\n",
        "    grid_search = GridSearchCV(model, params[name], cv=5, scoring='accuracy')\n",
        "    grid_search.fit(X_train, y_train)\n",
        "    best_models[name] = grid_search.best_estimator_\n",
        "    print(f\"Найкращі параметри для {name}: {grid_search.best_params_}\")"
      ],
      "metadata": {
        "colab": {
          "base_uri": "https://localhost:8080/"
        },
        "id": "pgQj3bq95Rpj",
        "outputId": "5cc7fd1b-bd73-4f99-c844-3407738f6e15"
      },
      "execution_count": 66,
      "outputs": [
        {
          "output_type": "stream",
          "name": "stdout",
          "text": [
            "\n",
            "Навчання моделі: Logistic Regression...\n",
            "Найкращі параметри для Logistic Regression: {'C': 0.1, 'solver': 'liblinear'}\n",
            "\n",
            "Навчання моделі: Decision Tree...\n",
            "Найкращі параметри для Decision Tree: {'max_depth': 3, 'min_samples_split': 2}\n",
            "\n",
            "Навчання моделі: Random Forest...\n",
            "Найкращі параметри для Random Forest: {'max_depth': 3, 'min_samples_split': 2, 'n_estimators': 50}\n"
          ]
        }
      ]
    },
    {
      "cell_type": "code",
      "source": [
        "# Оцінка моделей\n",
        "for name, model in best_models.items():\n",
        "    y_pred = model.predict(X_test)\n",
        "    print(f\"\\n{name} - Оцінка моделі:\")\n",
        "    print(f\"Точність: {accuracy_score(y_test, y_pred)}\")\n",
        "    print(f\"Матриця помилок:\\n{confusion_matrix(y_test, y_pred)}\")\n",
        "    print(f\"Звіт про класифікацію:\\n{classification_report(y_test, y_pred)}\")"
      ],
      "metadata": {
        "colab": {
          "base_uri": "https://localhost:8080/"
        },
        "id": "Sw3Mf8w-5rJJ",
        "outputId": "d37bd70d-705f-4865-ba9f-7da2199844ef"
      },
      "execution_count": 67,
      "outputs": [
        {
          "output_type": "stream",
          "name": "stdout",
          "text": [
            "\n",
            "Logistic Regression - Оцінка моделі:\n",
            "Точність: 1.0\n",
            "Матриця помилок:\n",
            "[[50  0]\n",
            " [ 0 34]]\n",
            "Звіт про класифікацію:\n",
            "              precision    recall  f1-score   support\n",
            "\n",
            "           0       1.00      1.00      1.00        50\n",
            "           1       1.00      1.00      1.00        34\n",
            "\n",
            "    accuracy                           1.00        84\n",
            "   macro avg       1.00      1.00      1.00        84\n",
            "weighted avg       1.00      1.00      1.00        84\n",
            "\n",
            "\n",
            "Decision Tree - Оцінка моделі:\n",
            "Точність: 1.0\n",
            "Матриця помилок:\n",
            "[[50  0]\n",
            " [ 0 34]]\n",
            "Звіт про класифікацію:\n",
            "              precision    recall  f1-score   support\n",
            "\n",
            "           0       1.00      1.00      1.00        50\n",
            "           1       1.00      1.00      1.00        34\n",
            "\n",
            "    accuracy                           1.00        84\n",
            "   macro avg       1.00      1.00      1.00        84\n",
            "weighted avg       1.00      1.00      1.00        84\n",
            "\n",
            "\n",
            "Random Forest - Оцінка моделі:\n",
            "Точність: 1.0\n",
            "Матриця помилок:\n",
            "[[50  0]\n",
            " [ 0 34]]\n",
            "Звіт про класифікацію:\n",
            "              precision    recall  f1-score   support\n",
            "\n",
            "           0       1.00      1.00      1.00        50\n",
            "           1       1.00      1.00      1.00        34\n",
            "\n",
            "    accuracy                           1.00        84\n",
            "   macro avg       1.00      1.00      1.00        84\n",
            "weighted avg       1.00      1.00      1.00        84\n",
            "\n"
          ]
        }
      ]
    },
    {
      "cell_type": "code",
      "source": [
        "best_model = max(best_models, key=lambda name: accuracy_score(y_test, best_models[name].predict(X_test)))\n",
        "print(f\"\\nНайкраща модель: {best_model}\")\n"
      ],
      "metadata": {
        "colab": {
          "base_uri": "https://localhost:8080/"
        },
        "id": "eiws9ba35xCy",
        "outputId": "0504e4cc-e6eb-4980-8ebd-b4e34b251366"
      },
      "execution_count": 68,
      "outputs": [
        {
          "output_type": "stream",
          "name": "stdout",
          "text": [
            "\n",
            "Найкраща модель: Logistic Regression\n"
          ]
        }
      ]
    },
    {
      "cell_type": "code",
      "source": [
        "# Прогнозування для 10 випадків\n",
        "best_model_instance = best_models[best_model]\n",
        "predictions = best_model_instance.predict(X_test[:10])\n",
        "print(f\"Прогноз для 10 випадків:\\n{predictions}\")"
      ],
      "metadata": {
        "colab": {
          "base_uri": "https://localhost:8080/"
        },
        "id": "S745k-B151ew",
        "outputId": "58a164c0-cf19-4288-ba95-a2af3e8086c6"
      },
      "execution_count": 69,
      "outputs": [
        {
          "output_type": "stream",
          "name": "stdout",
          "text": [
            "Прогноз для 10 випадків:\n",
            "[0 1 0 0 1 0 1 0 1 0]\n"
          ]
        }
      ]
    },
    {
      "cell_type": "markdown",
      "source": [
        "**Висновки**\n",
        "У ході роботи з датасетом Titanic були побудовані три моделі класифікації: логістична регресія, дерево рішень та випадковий ліс. Для кожної моделі було підібрано оптимальні параметри за допомогою GridSearchCV. Для Logistic Regression найкращими параметрами стали {'C': 0.1, 'solver': 'liblinear'}, для Decision Tree — {'max_depth': 3, 'min_samples_split': 2}, а для Random Forest — {'max_depth': 3, 'min_samples_split': 2, 'n_estimators': 50}. Усі три моделі показали ідентичну точність, яка дорівнює 1.0. Матриця помилок для кожної моделі не показала жодних помилкових передбачень: усі 50 зразків класу 0 та 34 зразки класу 1 були передбачені правильно. Звіт про класифікацію для кожної моделі підтвердив, що precision, recall та f1-score дорівнюють 1.0 для обох класів. Вибір найкращої моделі ґрунтувався на результатах метрик, і найкращою виявилася Logistic Regression. Прогноз для 10 випадкових зразків з тестової вибірки показав правильні передбачення класів [0, 1, 0, 0, 1, 0, 1, 0, 1, 0]."
      ],
      "metadata": {
        "id": "OCFXBF-pODQp"
      }
    }
  ]
}