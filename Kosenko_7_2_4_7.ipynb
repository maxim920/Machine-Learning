{
  "nbformat": 4,
  "nbformat_minor": 0,
  "metadata": {
    "colab": {
      "provenance": [],
      "authorship_tag": "ABX9TyO6uYxDcFtoZhmwIrQ0b+P6",
      "include_colab_link": true
    },
    "kernelspec": {
      "name": "python3",
      "display_name": "Python 3"
    },
    "language_info": {
      "name": "python"
    }
  },
  "cells": [
    {
      "cell_type": "markdown",
      "metadata": {
        "id": "view-in-github",
        "colab_type": "text"
      },
      "source": [
        "<a href=\"https://colab.research.google.com/github/maxim920/Machine-Learning/blob/main/Kosenko_7_2_4_7.ipynb\" target=\"_parent\"><img src=\"https://colab.research.google.com/assets/colab-badge.svg\" alt=\"Open In Colab\"/></a>"
      ]
    },
    {
      "cell_type": "code",
      "execution_count": 32,
      "metadata": {
        "colab": {
          "base_uri": "https://localhost:8080/"
        },
        "id": "5ivf_Pe8fdVz",
        "outputId": "b3d3427c-0dd6-4f31-ee35-4079f571d32a"
      },
      "outputs": [
        {
          "output_type": "stream",
          "name": "stdout",
          "text": [
            "Requirement already satisfied: scikit-surprise in /usr/local/lib/python3.10/dist-packages (1.1.4)\n",
            "Requirement already satisfied: joblib>=1.2.0 in /usr/local/lib/python3.10/dist-packages (from scikit-surprise) (1.4.2)\n",
            "Requirement already satisfied: numpy>=1.19.5 in /usr/local/lib/python3.10/dist-packages (from scikit-surprise) (1.26.4)\n",
            "Requirement already satisfied: scipy>=1.6.0 in /usr/local/lib/python3.10/dist-packages (from scikit-surprise) (1.13.1)\n"
          ]
        }
      ],
      "source": [
        "\n",
        "!pip install scikit-surprise\n",
        "\n",
        "import pandas as pd\n",
        "from surprise import Dataset, Reader\n",
        "from surprise import SVD\n",
        "from surprise.model_selection import cross_validate, GridSearchCV\n",
        "\n",
        "data = Dataset.load_builtin('ml-100k')"
      ]
    },
    {
      "cell_type": "code",
      "source": [
        "# Налаштування параметрів SVD через GridSearchCV\n",
        "param_grid = {\n",
        "    'n_factors': [50, 100, 150],\n",
        "    'lr_all': [0.002, 0.005],\n",
        "    'reg_all': [0.02, 0.05]\n",
        "}\n",
        "\n",
        "# Виконуємо підбір параметрів\n",
        "gs = GridSearchCV(SVD, param_grid, measures=['rmse', 'mae'], cv=5)\n",
        "gs.fit(data)\n",
        "\n",
        "# Виводимо найкращі параметри\n",
        "print(\"Найкращі параметри:\", gs.best_params['mae'])\n"
      ],
      "metadata": {
        "colab": {
          "base_uri": "https://localhost:8080/"
        },
        "id": "IY8eky4Mf0Df",
        "outputId": "58f8a0ed-1a06-451c-f358-33ae34913ef4"
      },
      "execution_count": 33,
      "outputs": [
        {
          "output_type": "stream",
          "name": "stdout",
          "text": [
            "Найкращі параметри: {'n_factors': 150, 'lr_all': 0.005, 'reg_all': 0.05}\n"
          ]
        }
      ]
    },
    {
      "cell_type": "code",
      "source": [
        "# Оцінка моделі з найкращими параметрами\n",
        "algo = gs.best_estimator['mae']\n",
        "cross_validate(algo, data, measures=['MAE'], cv=5, verbose=True)\n"
      ],
      "metadata": {
        "colab": {
          "base_uri": "https://localhost:8080/"
        },
        "id": "FbvT29JciukM",
        "outputId": "52c6ed56-cb03-4021-ea12-cc3354d776d6"
      },
      "execution_count": 34,
      "outputs": [
        {
          "output_type": "stream",
          "name": "stdout",
          "text": [
            "Evaluating MAE of algorithm SVD on 5 split(s).\n",
            "\n",
            "                  Fold 1  Fold 2  Fold 3  Fold 4  Fold 5  Mean    Std     \n",
            "MAE (testset)     0.7348  0.7373  0.7417  0.7322  0.7335  0.7359  0.0034  \n",
            "Fit time          2.04    1.91    1.95    1.95    2.93    2.16    0.39    \n",
            "Test time         0.14    0.14    0.33    0.14    0.38    0.23    0.11    \n"
          ]
        },
        {
          "output_type": "execute_result",
          "data": {
            "text/plain": [
              "{'test_mae': array([0.73483939, 0.73732966, 0.74174768, 0.73221995, 0.73346443]),\n",
              " 'fit_time': (2.0377752780914307,\n",
              "  1.9131016731262207,\n",
              "  1.9494757652282715,\n",
              "  1.9503557682037354,\n",
              "  2.92537522315979),\n",
              " 'test_time': (0.14177417755126953,\n",
              "  0.13965940475463867,\n",
              "  0.33221864700317383,\n",
              "  0.1434929370880127,\n",
              "  0.3783528804779053)}"
            ]
          },
          "metadata": {},
          "execution_count": 34
        }
      ]
    },
    {
      "cell_type": "code",
      "source": [
        "# Створюємо trainset\n",
        "trainset = data.build_full_trainset()\n",
        "algo.fit(trainset)"
      ],
      "metadata": {
        "colab": {
          "base_uri": "https://localhost:8080/"
        },
        "id": "hOTxXyhbjItG",
        "outputId": "117af9d8-48df-4771-d02c-d6f76ebb107a"
      },
      "execution_count": 35,
      "outputs": [
        {
          "output_type": "execute_result",
          "data": {
            "text/plain": [
              "<surprise.prediction_algorithms.matrix_factorization.SVD at 0x7b703a6724d0>"
            ]
          },
          "metadata": {},
          "execution_count": 35
        }
      ]
    },
    {
      "cell_type": "code",
      "source": [
        "# Функція для отримання рекомендацій\n",
        "def get_top_n_recommendations(algo, trainset, user_id, n=10):\n",
        "    # Отримуємо список усіх фільмів\n",
        "    all_items = trainset.all_items()\n",
        "\n",
        "    # Отримуємо рейтинги для всіх фільмів\n",
        "    user_ratings = trainset.ur[trainset.to_inner_uid(user_id)]\n",
        "    rated_items = [item[0] for item in user_ratings]\n",
        "\n",
        "    recommendations = []\n",
        "    for item_id in all_items:\n",
        "        if item_id not in rated_items:\n",
        "            est = algo.predict(user_id, trainset.to_raw_iid(item_id)).est\n",
        "            recommendations.append((item_id, est))\n",
        "\n",
        "    # Сортуємо за передбачуваним рейтингом\n",
        "    recommendations.sort(key=lambda x: x[1], reverse=True)\n",
        "\n",
        "    return recommendations[:n]\n"
      ],
      "metadata": {
        "id": "kQHAGveQjwSJ"
      },
      "execution_count": 36,
      "outputs": []
    },
    {
      "cell_type": "code",
      "source": [
        "\n",
        "user_id = str(345)\n",
        "top_n = get_top_n_recommendations(algo, trainset, user_id, n=10)\n",
        "\n",
        "# Виводимо рекомендації\n",
        "print(\"Рекомендації для користувача:\", user_id)\n",
        "for movie_id, rating in top_n:\n",
        "    print(f\"Фільм ID: {movie_id}, Прогнозований рейтинг: {rating:.2f}\")"
      ],
      "metadata": {
        "colab": {
          "base_uri": "https://localhost:8080/"
        },
        "id": "m2IfJyqbmbJn",
        "outputId": "e3f4cbe5-5996-4bdc-d71f-82c50fd1b9f3"
      },
      "execution_count": 40,
      "outputs": [
        {
          "output_type": "stream",
          "name": "stdout",
          "text": [
            "Рекомендації для користувача: 345\n",
            "Фільм ID: 180, Прогнозований рейтинг: 4.69\n",
            "Фільм ID: 277, Прогнозований рейтинг: 4.65\n",
            "Фільм ID: 189, Прогнозований рейтинг: 4.60\n",
            "Фільм ID: 58, Прогнозований рейтинг: 4.59\n",
            "Фільм ID: 174, Прогнозований рейтинг: 4.59\n",
            "Фільм ID: 240, Прогнозований рейтинг: 4.58\n",
            "Фільм ID: 612, Прогнозований рейтинг: 4.57\n",
            "Фільм ID: 36, Прогнозований рейтинг: 4.55\n",
            "Фільм ID: 538, Прогнозований рейтинг: 4.54\n",
            "Фільм ID: 78, Прогнозований рейтинг: 4.53\n"
          ]
        }
      ]
    },
    {
      "cell_type": "code",
      "source": [],
      "metadata": {
        "id": "9BtBvtVpw4Fa"
      },
      "execution_count": null,
      "outputs": []
    },
    {
      "cell_type": "markdown",
      "source": [
        "Висновки\n",
        "\n",
        "В результаті оцінки алгоритму SVD було виявлено, що найкращими параметрами є: n_factors = 150, lr_all = 0.005, і reg_all = 0.05. Середня абсолютна помилка (MAE) на тестовій вибірці склала 0.7359 з невеликою стандартною девіацією 0.0034, що вказує на стабільність моделі. Час навчання варіювався від 1.91 до 2.93 секунд, а час тестування від 0.14 до 0.38 секунд, що є прийнятним для даного алгоритму.\n",
        "\n",
        "Для користувача з ID 345 система рекомендує наступні фільми з прогнозованими рейтингами:\n",
        "\n",
        "    Фільм ID: 180, рейтинг: 4.69\n",
        "    Фільм ID: 277, рейтинг: 4.65\n",
        "    Фільм ID: 189, рейтинг: 4.60\n",
        "    Фільм ID: 58, рейтинг: 4.59\n",
        "    Фільм ID: 174, рейтинг: 4.59\n",
        "    Фільм ID: 240, рейтинг: 4.58\n",
        "    Фільм ID: 612, рейтинг: 4.57\n",
        "    Фільм ID: 36, рейтинг: 4.55\n",
        "    Фільм ID: 538, рейтинг: 4.54\n",
        "    Фільм ID: 78, рейтинг: 4.53\n",
        "\n",
        "Ці рекомендації свідчать про те, що модель може надати користувачеві цікаві фільми, базуючись на його вподобаннях."
      ],
      "metadata": {
        "id": "olQT3CVIwn-q"
      }
    },
    {
      "cell_type": "code",
      "source": [],
      "metadata": {
        "id": "fz_Q656pwpOJ"
      },
      "execution_count": null,
      "outputs": []
    }
  ]
}